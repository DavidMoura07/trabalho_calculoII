{
 "cells": [
  {
   "cell_type": "code",
   "execution_count": 418,
   "metadata": {},
   "outputs": [],
   "source": [
    "sopa = [[\"PATO\", \"BOI\", \"GATO\", \"CAO\"],\n",
    "        [\"XPATOW\", \"GATOPA\", \"YWBIVZ\", \"ZWCAOB\", \"ABBOIL\"]]"
   ]
  },
  {
   "cell_type": "code",
   "execution_count": 419,
   "metadata": {},
   "outputs": [
    {
     "data": {
      "text/plain": [
       "[['PATO', 'BOI', 'GATO', 'CAO'],\n",
       " ['XPATOW', 'GATOPA', 'YWBIVZ', 'ZWCAOB', 'ABBOIL']]"
      ]
     },
     "execution_count": 419,
     "metadata": {},
     "output_type": "execute_result"
    }
   ],
   "source": [
    "sopa"
   ]
  },
  {
   "cell_type": "code",
   "execution_count": 420,
   "metadata": {},
   "outputs": [],
   "source": [
    "def obtem_palavras(sopa):\n",
    "    return sopa[0];"
   ]
  },
  {
   "cell_type": "code",
   "execution_count": 421,
   "metadata": {},
   "outputs": [
    {
     "data": {
      "text/plain": [
       "['PATO', 'BOI', 'GATO', 'CAO']"
      ]
     },
     "execution_count": 421,
     "metadata": {},
     "output_type": "execute_result"
    }
   ],
   "source": [
    "obtem_palavras(sopa)"
   ]
  },
  {
   "cell_type": "code",
   "execution_count": 422,
   "metadata": {},
   "outputs": [],
   "source": [
    "def obtem_grelha(sopa):\n",
    "    return sopa[1];"
   ]
  },
  {
   "cell_type": "code",
   "execution_count": 423,
   "metadata": {},
   "outputs": [
    {
     "data": {
      "text/plain": [
       "['XPATOW', 'GATOPA', 'YWBIVZ', 'ZWCAOB', 'ABBOIL']"
      ]
     },
     "execution_count": 423,
     "metadata": {},
     "output_type": "execute_result"
    }
   ],
   "source": [
    "obtem_grelha(sopa)"
   ]
  },
  {
   "cell_type": "code",
   "execution_count": 424,
   "metadata": {},
   "outputs": [],
   "source": [
    "def encontra_palavras(sopa):\n",
    "    palavra = obtem_palavras(sopa)\n",
    "    grelha = obtem_grelha(sopa)\n",
    "    vet = []\n",
    "    resposta = [] \n",
    "    for i in palavra:\n",
    "        for j in range(0, len(grelha)):\n",
    "            if (i in grelha[j]):\n",
    "                pos_linha = grelha[j].index(i)\n",
    "                vet.append(i)\n",
    "                vet.append(j)\n",
    "                vet.append(pos_linha)\n",
    "        if(len(vet) != 0):\n",
    "            resposta.append(vet)\n",
    "        vet = []\n",
    "    return resposta\n",
    "    "
   ]
  },
  {
   "cell_type": "code",
   "execution_count": 425,
   "metadata": {
    "scrolled": true
   },
   "outputs": [
    {
     "data": {
      "text/plain": [
       "[['PATO', 0, 1], ['BOI', 4, 2], ['GATO', 1, 0], ['CAO', 3, 2]]"
      ]
     },
     "execution_count": 425,
     "metadata": {},
     "output_type": "execute_result"
    }
   ],
   "source": [
    "encontra_palavras(sopa)"
   ]
  },
  {
   "cell_type": "code",
   "execution_count": 426,
   "metadata": {},
   "outputs": [],
   "source": [
    "def assinala_palavras(grelha, palavras):\n",
    "    #desta forma não substitui a variavel global\n",
    "    nova_grelha = grelha.copy()\n",
    "    for palavra in palavras:\n",
    "        # substitui a palavra em uma linha por ela em minúscula\n",
    "        # palavra[1] guarda a linha que possui a palavra\n",
    "        # palavra[0] guarda a palavra em si\n",
    "        nova_grelha[palavra[1]] = nova_grelha[palavra[1]].replace(palavra[0], palavra[0].lower())\n",
    "                    \n",
    "    return nova_grelha"
   ]
  },
  {
   "cell_type": "code",
   "execution_count": 427,
   "metadata": {},
   "outputs": [
    {
     "name": "stdout",
     "output_type": "stream",
     "text": [
      "[['PATO', 'BOI', 'GATO', 'CAO'], ['XPATOW', 'GATOPA', 'YWBIVZ', 'ZWCAOB', 'ABBOIL']]\n"
     ]
    }
   ],
   "source": [
    "print(sopa)"
   ]
  },
  {
   "cell_type": "code",
   "execution_count": 428,
   "metadata": {},
   "outputs": [],
   "source": [
    "def resolve_sopa_letras(sopa):\n",
    "    grelha = obtem_grelha(sopa)\n",
    "    indice_palavras = encontra_palavras(sopa)\n",
    "    palavras_assinaladas = assinala_palavras(grelha, indice_palavras)\n",
    "    \n",
    "    return palavras_assinaladas"
   ]
  },
  {
   "cell_type": "code",
   "execution_count": 429,
   "metadata": {},
   "outputs": [
    {
     "name": "stdout",
     "output_type": "stream",
     "text": [
      "['XpatoW', 'gatoPA', 'YWBIVZ', 'ZWcaoB', 'ABboiL']\n",
      "[['PATO', 'BOI', 'GATO', 'CAO'], ['XPATOW', 'GATOPA', 'YWBIVZ', 'ZWCAOB', 'ABBOIL']]\n"
     ]
    }
   ],
   "source": [
    "print(resolve_sopa_letras(sopa))\n",
    "print(sopa)"
   ]
  },
  {
   "cell_type": "code",
   "execution_count": null,
   "metadata": {},
   "outputs": [],
   "source": []
  }
 ],
 "metadata": {
  "kernelspec": {
   "display_name": "Python 3",
   "language": "python",
   "name": "python3"
  },
  "language_info": {
   "codemirror_mode": {
    "name": "ipython",
    "version": 3
   },
   "file_extension": ".py",
   "mimetype": "text/x-python",
   "name": "python",
   "nbconvert_exporter": "python",
   "pygments_lexer": "ipython3",
   "version": "3.6.3"
  }
 },
 "nbformat": 4,
 "nbformat_minor": 2
}
