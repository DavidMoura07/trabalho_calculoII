{
 "cells": [
  {
   "cell_type": "markdown",
   "metadata": {},
   "source": [
    "# Trabalho de Cálculo II\n",
    "\n",
    "#### Orientadora: Adriana Padua Lovatte\n",
    "\n",
    "#### Alunos: David de Moura Marques e Magno Macedo de Oliveira\n",
    "\n",
    "#### Grupo V - Séries “a e II”\n",
    "\n",
    "a) $\\sum_{n=1}^{\\infty} \\frac{n}{n^4+1}$\n",
    "\n",
    "II) $\\sum_{n=1}^{\\infty} \\frac{(-1)^n.n}{10^n}$\n",
    "\n"
   ]
  },
  {
   "cell_type": "markdown",
   "metadata": {},
   "source": [
    "# 1 Verificar se as séries convergem: \n",
    "\n",
    "## 1.1 (a) $\\sum_{n=1}^{\\infty} \\frac{n}{n^4+1}$\n",
    "\n",
    "Seja f(x) = $\\sum_{n=1}^{\\infty} \\frac{n}{n^4+1}$,\n",
    "h(x) = $\\sum_{n=1}^{\\infty} \\frac{n}{n^4}$\n",
    "e g(x) = $\\sum_{n=1}^{\\infty} \\frac{1}{n^3}$,\n",
    "então f(x) <= h(x) < g(x)\n",
    "                \n",
    "E g(x) converge (P-Série, P=3) logo, pelo Teste da Comparação, F(x) converge.\n",
    "\n",
    "## 1.2 (II) $\\sum_{n=1}^{\\infty} \\frac{(-1)^n.n}{10^n}$\n",
    "\n",
    "Este é um exemplo de uma série alternada, para verificar sua convergência, faremos dois testes:\n",
    "\n",
    "Se $b_{n+1} <= b_{n}$\n",
    "\n",
    "E se $\\lim_{n\\to\\infty} b_{n} = 0$\n",
    "\n",
    "Dado que $b_{n} = \\frac{n}{10^n}$\n",
    "então $b_{n+1} = \\frac{n+1}{10^{n+1}}$,\n",
    "logo $b_{n+1} <= b_{n}$\n",
    "\n",
    "Calculemos agora $\\lim_{n\\to\\infty} b_{n}$\n",
    "\n",
    "$\\lim_{n\\to\\infty} \\frac{n}{10^n}$ = $\\lim_{n\\to\\infty} \\frac{1}{10^n log(10)} = 0$\n",
    "\n",
    "Por tanto, a série converge\n"
   ]
  },
  {
   "cell_type": "markdown",
   "metadata": {},
   "source": [
    "# 2 Calcular quantas operações são necessárias para determinar a soma de uma série infinita com uma precisão de 0,00000001 ( 'e' < 0,0000001)\n",
    "\n",
    "Métodos a serem utilizados:\n",
    "\n",
    "## 2.1 O erro 'e' será obtido, fazendo:\n",
    "\n",
    "  e = $S_{n} - S_{n-1}$ , onde:\n",
    "\n",
    "  $S_{n}$ : É a enésima soma;\n",
    "\n",
    "  $S_{n-1}$ : É a soma anterior a enésima soma;\n",
    "\n",
    "## 2.2 O erro 'e' será obtido utilizando a estimativa do resto para integral ou utilizando o teorema de estimativa de séries alternadas, de acordo com a série.\n",
    "\n",
    "### 2.2.1 A estimativa de resto para integral é dada por:\n",
    "    \n",
    "e = $\\int_{n+1}^{\\infty} f(x) dx$ \n",
    "  \n",
    "### 2.2.2 O teorema de estimativa de séries alternadas:\n",
    "\n",
    "Se $S = (-1)^{n-1} b_{n}$ for a soma de uma série alternada que satisfaz∶\n",
    "$0 <= b_{n+1} <= b_{n}$ e $\\lim_{n\\to\\infty} b_{n} = 0$ então $R_{n} <= b_{n+1}$\n",
    "  \n"
   ]
  },
  {
   "cell_type": "code",
   "execution_count": 24,
   "metadata": {},
   "outputs": [],
   "source": [
    "import numpy as np\n",
    "import pandas as pd\n",
    "from scipy.integrate import quad\n",
    "import texttable as tt\n",
    "from sympy import Poly, Symbol, init_printing, latex\n",
    "from sympy.solvers.inequalities import reduce_rational_inequalities\n",
    "PRECISAO = 0.00000001"
   ]
  },
  {
   "cell_type": "code",
   "execution_count": 25,
   "metadata": {},
   "outputs": [],
   "source": [
    "def serieA(n):\n",
    "    serie = 0\n",
    "    for i in range(1,n):\n",
    "        serie += i/((i**4)+1)\n",
    "    return serie\n",
    "\n",
    "def mod(num):\n",
    "    if num < 0:\n",
    "        return num * -1\n",
    "    return num\n",
    "\n",
    "def calculaErroI(serie):\n",
    "    erro = 1.0\n",
    "    quantidadeIteracoes = 1\n",
    "    sn_menos_um = 0.0\n",
    "    sn = 0.0\n",
    "    \n",
    "    tabela = tt.Texttable()\n",
    "    tabela.header(['Nro Op', 'Sn-1', 'Sn', 'erro'])\n",
    "    tabela.set_cols_dtype(['i','f','f','f']) \n",
    "    tabela.set_precision(9)\n",
    "    while erro >= PRECISAO:\n",
    "        sn_menos_um = mod(serie(quantidadeIteracoes))\n",
    "        sn = mod(serie(quantidadeIteracoes+1))\n",
    "        erro = mod(sn - sn_menos_um)\n",
    "        tabela.add_row([quantidadeIteracoes,sn_menos_um,sn,erro])\n",
    "        quantidadeIteracoes+=1\n",
    "    return tabela.draw()\n"
   ]
  },
  {
   "cell_type": "markdown",
   "metadata": {},
   "source": [
    "## 2.3 Série a: $\\sum_{n=1}^{\\infty} \\frac{n}{n^4+1}$\n",
    "\n",
    "### 2.3.1 Utilizando o método 2.1"
   ]
  },
  {
   "cell_type": "code",
   "execution_count": 26,
   "metadata": {},
   "outputs": [
    {
     "name": "stdout",
     "output_type": "stream",
     "text": [
      "+--------+-------------+-------------+-------------+\n",
      "| Nro Op |    Sn-1     |     Sn      |    erro     |\n",
      "+========+=============+=============+=============+\n",
      "| 1      | 0.000000000 | 0.500000000 | 0.500000000 |\n",
      "+--------+-------------+-------------+-------------+\n",
      "| 2      | 0.500000000 | 0.617647059 | 0.117647059 |\n",
      "+--------+-------------+-------------+-------------+\n",
      "| 3      | 0.617647059 | 0.654232425 | 0.036585366 |\n",
      "+--------+-------------+-------------+-------------+\n",
      "| 4      | 0.654232425 | 0.669796627 | 0.015564202 |\n",
      "+--------+-------------+-------------+-------------+\n",
      "| 5      | 0.669796627 | 0.677783847 | 0.007987220 |\n",
      "+--------+-------------+-------------+-------------+\n",
      "| 6      | 0.677783847 | 0.682409908 | 0.004626060 |\n",
      "+--------+-------------+-------------+-------------+\n",
      "| 7      | 0.682409908 | 0.685324146 | 0.002914238 |\n",
      "+--------+-------------+-------------+-------------+\n",
      "| 8      | 0.685324146 | 0.687276794 | 0.001952648 |\n",
      "+--------+-------------+-------------+-------------+\n",
      "| 9      | 0.687276794 | 0.688648327 | 0.001371533 |\n",
      "+--------+-------------+-------------+-------------+\n",
      "| 10     | 0.688648327 | 0.689648227 | 0.000999900 |\n",
      "+--------+-------------+-------------+-------------+\n",
      "\t\t\t...\n",
      "+--------+-------------+-------------+-------------+\n",
      "| 455    | 0.694170602 | 0.694170612 | 0.000000011 |\n",
      "+--------+-------------+-------------+-------------+\n",
      "| 456    | 0.694170612 | 0.694170623 | 0.000000011 |\n",
      "+--------+-------------+-------------+-------------+\n",
      "| 457    | 0.694170623 | 0.694170633 | 0.000000010 |\n",
      "+--------+-------------+-------------+-------------+\n",
      "| 458    | 0.694170633 | 0.694170644 | 0.000000010 |\n",
      "+--------+-------------+-------------+-------------+\n",
      "| 459    | 0.694170644 | 0.694170654 | 0.000000010 |\n",
      "+--------+-------------+-------------+-------------+\n",
      "| 460    | 0.694170654 | 0.694170664 | 0.000000010 |\n",
      "+--------+-------------+-------------+-------------+\n",
      "| 461    | 0.694170664 | 0.694170675 | 0.000000010 |\n",
      "+--------+-------------+-------------+-------------+\n",
      "| 462    | 0.694170675 | 0.694170685 | 0.000000010 |\n",
      "+--------+-------------+-------------+-------------+\n",
      "| 463    | 0.694170685 | 0.694170695 | 0.000000010 |\n",
      "+--------+-------------+-------------+-------------+\n",
      "| 464    | 0.694170695 | 0.694170705 | 0.000000010 |\n",
      "+--------+-------------+-------------+-------------+\n",
      "| 465    | 0.694170705 | 0.694170715 | 0.000000010 |\n",
      "+--------+-------------+-------------+-------------+\n"
     ]
    }
   ],
   "source": [
    "tabela = calculaErroI(serieA)\n",
    "\n",
    "# imprime as dez primeiras linhas\n",
    "print(tabela[0:][0:1218])\n",
    "print('\\t\\t\\t...')\n",
    "# imprime as dez ultimas linhas\n",
    "print(tabela[0:][len(tabela)-1218:])"
   ]
  },
  {
   "cell_type": "markdown",
   "metadata": {},
   "source": [
    "### 2.3.2 Utilizando o método 2.2.1\n",
    "\n",
    "##### OBS: Para esta série deve-se utilizar o método 2.1 ao invés do 2.2 pois não se trata de uma série alternada\n",
    "\n",
    "De acordo com 1.1, podemos escrever esta série como $\\int_{n+1}^{\\infty} \\frac{1}{x^3} dx$\n",
    "\n",
    "Resolvendo esta integral teremos:\n",
    "\n",
    " $\\int_{n+1}^{\\infty} \\frac{1}{x^3} dx = \\lim_{x\\to\\infty} \\int_{n+1}^{x} \\frac{1}{x^3} dx =\\lim_{x\\to\\infty} - \\frac{1}{2x^2}]_{n+1}^{\\infty}$\n",
    " \n",
    " $\\lim_{x\\to\\infty} [- \\frac{1}{2x^2} - (- \\frac{1}{2(n+1)^2})] = 0 + \\frac{1}{2(n+1)^2} = \\frac{1}{2(n+1)^2} $\n",
    " \n",
    " onde $n$ será nosso erro.\n",
    " \n",
    " Calculando $n$:\n",
    " \n",
    " $ \\frac{1}{2(n+1)^2} < 0,0000001  $\n",
    " "
   ]
  },
  {
   "cell_type": "code",
   "execution_count": 27,
   "metadata": {},
   "outputs": [],
   "source": [
    "def solveIneq():\n",
    "    n = Symbol('n', real=True)\n",
    "    return reduce_rational_inequalities([[1/(2*(n+1)**2) < PRECISAO]], n)"
   ]
  },
  {
   "cell_type": "code",
   "execution_count": 28,
   "metadata": {
    "scrolled": true
   },
   "outputs": [
    {
     "name": "stdout",
     "output_type": "stream",
     "text": [
      "((-inf < n) & (n < -7072.06781186548)) | ((7070.06781186548 < n) & (n < inf))\n"
     ]
    }
   ],
   "source": [
    "print(solveIneq())"
   ]
  },
  {
   "cell_type": "markdown",
   "metadata": {},
   "source": [
    "Desconsideraremos a parte negativa visto o somatório dar-se para valores positivos.\n",
    "Por tanto o primeiro valor que satisfaz a equação é: **n = 7071**\n"
   ]
  },
  {
   "cell_type": "markdown",
   "metadata": {},
   "source": [
    "## 2.4 Série II: $\\sum_{n=1}^{\\infty} \\frac{(-1)^n.n}{10^n}$\n",
    "\n",
    "### 2.4.1 Utilizando o método 2.1"
   ]
  },
  {
   "cell_type": "code",
   "execution_count": 29,
   "metadata": {},
   "outputs": [
    {
     "name": "stdout",
     "output_type": "stream",
     "text": [
      "+--------+-------------+-------------+-------------+\n",
      "| Nro Op |    Sn-1     |     Sn      |    erro     |\n",
      "+========+=============+=============+=============+\n",
      "| 1      | 0.000000000 | 0.020000000 | 0.020000000 |\n",
      "+--------+-------------+-------------+-------------+\n",
      "| 2      | 0.020000000 | 0.006000000 | 0.014000000 |\n",
      "+--------+-------------+-------------+-------------+\n",
      "| 3      | 0.006000000 | 0.001200000 | 0.004800000 |\n",
      "+--------+-------------+-------------+-------------+\n",
      "| 4      | 0.001200000 | 0.000200000 | 0.001000000 |\n",
      "+--------+-------------+-------------+-------------+\n",
      "| 5      | 0.000200000 | 0.000030000 | 0.000170000 |\n",
      "+--------+-------------+-------------+-------------+\n",
      "| 6      | 0.000030000 | 0.000004200 | 0.000025800 |\n",
      "+--------+-------------+-------------+-------------+\n",
      "| 7      | 0.000004200 | 0.000000560 | 0.000003640 |\n",
      "+--------+-------------+-------------+-------------+\n",
      "| 8      | 0.000000560 | 0.000000072 | 0.000000488 |\n",
      "+--------+-------------+-------------+-------------+\n",
      "| 9      | 0.000000072 | 0.000000009 | 0.000000063 |\n",
      "+--------+-------------+-------------+-------------+\n",
      "| 10     | 0.000000009 | 0.000000001 | 0.000000008 |\n",
      "+--------+-------------+-------------+-------------+\n"
     ]
    }
   ],
   "source": [
    "def serieII(n):\n",
    "    serie = 0\n",
    "    for i in range(1,n):\n",
    "        serie += ((-1**n)*n)/10**n\n",
    "    return serie\n",
    "\n",
    "tabela = calculaErroI(serieII)\n",
    "print(tabela)"
   ]
  },
  {
   "cell_type": "markdown",
   "metadata": {},
   "source": [
    "### 2.4.2 Utilizando o método 2.2.2\n",
    "\n",
    "#### *OBS Aqui utilizaremos o método 2.2.2 ao invés do 2.2.1 pois se trata de uma série alternada. Onde $\\varepsilon=b(n+1)=\\frac{n+1}{10^{n+1}}$*"
   ]
  },
  {
   "cell_type": "code",
   "execution_count": 30,
   "metadata": {},
   "outputs": [],
   "source": [
    "def serieIIErro(n):\n",
    "    return (n+1)/((10)**(n+1))\n",
    "\n",
    "def calculaErroAlternada(serieBnMaisUm):\n",
    "    n = 1\n",
    "    erro = 1\n",
    "    while erro >= PRECISAO:\n",
    "        erro = serieBnMaisUm(n)\n",
    "        n += 1\n",
    "    print(\"Precisão: %.7f\" % erro)\n",
    "    print(\"Resultado do somatório com %i termos: %.9f\" %(n, mod(serieBnMaisUm(n))))"
   ]
  },
  {
   "cell_type": "code",
   "execution_count": 31,
   "metadata": {},
   "outputs": [
    {
     "name": "stdout",
     "output_type": "stream",
     "text": [
      "Precisão: 0.0000000\n",
      "Resultado do somatório com 9 termos: 0.000000001\n"
     ]
    }
   ],
   "source": [
    "calculaErroAlternada(serieIIErro)"
   ]
  },
  {
   "cell_type": "markdown",
   "metadata": {},
   "source": [
    "________________________________________________________________"
   ]
  },
  {
   "cell_type": "markdown",
   "metadata": {},
   "source": [
    "# Referências"
   ]
  },
  {
   "cell_type": "markdown",
   "metadata": {},
   "source": [
    "- <https://pt.sharelatex.com/learn/Integrals,_sums_and_limits#Integrals>\n",
    "- <https://github.com/adam-p/markdown-here/wiki/Markdown-Cheatsheet#links>\n",
    "- <https://github.com/foutaise/texttable>\n",
    "- <https://www.symbolab.com/>\n",
    "- <http://www.wolframalpha.com/>\n",
    "- <http://jupyter-notebook.readthedocs.io/en/stable/examples/Notebook/Typesetting%20Equations.html>\n",
    "- STEWART, James. Cálculo, Vol. 2, 7a Ediçao. Thomson Learning.\n"
   ]
  }
 ],
 "metadata": {
  "kernelspec": {
   "display_name": "Python 3",
   "language": "python",
   "name": "python3"
  },
  "language_info": {
   "codemirror_mode": {
    "name": "ipython",
    "version": 3
   },
   "file_extension": ".py",
   "mimetype": "text/x-python",
   "name": "python",
   "nbconvert_exporter": "python",
   "pygments_lexer": "ipython3",
   "version": "3.7.0"
  }
 },
 "nbformat": 4,
 "nbformat_minor": 2
}
