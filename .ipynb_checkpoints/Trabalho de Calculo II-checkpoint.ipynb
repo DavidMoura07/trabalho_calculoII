{
 "cells": [
  {
   "cell_type": "markdown",
   "metadata": {},
   "source": [
    "<div style=\"text-align:center\">\n",
    "    <h1>Trabalho de Cálculo II<h1>\n",
    "</div>\n",
    "<div style=\"text-align:left\">\n",
    "    <h3>Alunos: David de Moura Marques e Magno Macedo de Oliveira<h3>\n",
    "</div>\n",
    "<div style=\"text-align:center\">\n",
    "    <h3> Grupo V - Séries “a e II” </h3>\n",
    "    <br>\n",
    "    a) $\\sum_{n=1}^{\\infty} \\frac{n}{n^4+1}$\n",
    "    <br><br>\n",
    "    II) $\\sum_{n=1}^{\\infty} \\frac{(-1)^n.n}{10^n}$\n",
    "</div>\n"
   ]
  },
  {
   "cell_type": "markdown",
   "metadata": {},
   "source": [
    "# Passo 1 – Verificar se as séries convergem: \n",
    "\n",
    "**a) $\\sum_{n=1}^{\\infty} \\frac{n}{n^4+1}$**\n",
    "\n",
    "Seja f(x) = $\\frac{n}{n^4+1}$\n",
    "e g(x) = $\\frac{1}{n^3}$,\n",
    "então f(x) < g(x)\n",
    "                \n",
    "E g(x) converge (P-Série, P=3) logo, pelo Teste da Comparação, F(x) converge.\n",
    "\n",
    "**II) $\\sum_{n=1}^{\\infty} \\frac{(-1)^n.n}{10^n}$**\n",
    "\n",
    "Este é um exemplo de uma série alternada, para verificar sua convergência, faremos dois testes:\n",
    "\n",
    "Se $b_{n+1} ≤ b_{n}$\n",
    "\n",
    "E se $\\lim_{n\\to\\infty} b_{n} = 0$\n",
    "\n",
    "Dado que bn = $\\frac{n}{10^n}$\n",
    "então $b_{n+1} = \\frac{n+1}{10^{n+1}}$,\n",
    "logo $b_{n+1} ≤ b_{n}$\n",
    "\n",
    "Calculemos agora $\\lim_{n\\to\\infty} b_{n}$\n",
    "\n",
    "$\\lim_{n\\to\\infty} \\frac{n}{10^n}$ = $\\lim_{n\\to\\infty} \\frac{1}{10^n log(10)} = 0$\n",
    "\n",
    "Por tanto, a série converge\n"
   ]
  },
  {
   "cell_type": "markdown",
   "metadata": {},
   "source": [
    "# Passo 2 – Calcular quantas operações são necessárias para determinar a soma de uma série infinita com uma precisão de 0,00000001 ( ε < 0,0000001)\n",
    "\n",
    "Métodos a serem utilizados:\n",
    "\n",
    "**I.** O erro ε será obtido, fazendo:\n",
    "<p>\n",
    "ε = $S_{n} − S_{n−1}$ , onde:<br>\n",
    "$S_{n}$ : É a enésima soma;<br>\n",
    "$S_{n-1}$ : É a soma anterior a enésima soma;</p>\n",
    "\n",
    "**II.**\n",
    "O erro ε será obtido utilizando a estimativa do resto para integral ou\n",
    "utilizando o teorema de estimativa de séries alternadas, de acordo com\n",
    "a série.\n",
    "- A estimativa de resto para integral é dada por:<br>\n",
    "  ε = $\\int_{n+1}^{\\infty} f(x) dx$ \n",
    "- O teorema de estimativa de séries alternadas:<br>\n",
    "  Se $S = (-1)^{n-1} b_{n}$ for a soma de uma série alternada que satisfaz∶<br>\n",
    "  $0 ≤ b_{n+1} ≤ b_{n}$ e $\\lim_{n\\to\\infty} b_{n} = 0$ então $R_{n} ≤ b_{n+1}$"
   ]
  },
  {
   "cell_type": "code",
   "execution_count": 67,
   "metadata": {},
   "outputs": [],
   "source": [
    "import numpy as np\n",
    "import pandas as pd\n",
    "from scipy.integrate import quad"
   ]
  },
  {
   "cell_type": "markdown",
   "metadata": {},
   "source": [
    "# Passo 2 – Escrever a função como uma serie: \n",
    "\\begin{equation*}\n",
    "f(x)   = \\frac{senx}{x}\n",
    "\\end{equation*} "
   ]
  },
  {
   "cell_type": "markdown",
   "metadata": {},
   "source": [
    "## Considere a série MacLaurin para: \n",
    "\\begin{equation*}\n",
    "\\sin (x) = \\sum_{n=0}^\\infty (-1)^n \\frac{x^{2n+1}}{(2n+1)!}\n",
    "\\end{equation*}\n",
    "## dividindo a serie por \"x\", temos:\n",
    "\\begin{equation*}\n",
    "\\frac{senx}{x} = \\sum_{n=0}^\\infty (-1)^n \\frac{1}{x} \\frac{x^{2n+1}}{(2n+1)!} = \\sum_{n=0}^\\infty (-1)^n \\frac{x^{2n}}{(2n+1)!}\n",
    "\\end{equation*}\n",
    "\n",
    "## expandindo a serie:\n",
    "\\begin{equation*}\n",
    "\\sum_{n=0}^\\infty (-1)^n \\frac{x^{2n}}{(2n+1)!} = 1 - \\frac{x^2}{3!} + \\frac{x^4}{5!} -\\frac{x^6}{7!} + ...\n",
    "\\end{equation*}\n"
   ]
  },
  {
   "cell_type": "markdown",
   "metadata": {},
   "source": [
    "________________________________________________________________"
   ]
  },
  {
   "cell_type": "markdown",
   "metadata": {},
   "source": [
    "# Passo 3 – Escrever a derivada da função: \n",
    "\\begin{equation*}\n",
    "f(x)   = \\frac{senx}{x}\n",
    "\\end{equation*} \n",
    "## verificar os valores da derivada nos pontos \n",
    "$$\\begin{array}{|l||c|}\n",
    "\\hline \\\n",
    "x = 0 & x = \\pi/2\\\\\n",
    "\\hline\n",
    "\\hline \\\n",
    "x = \\pi & x =3\\pi/2\\\\\n",
    "\\hline\n",
    "\\hline \\\n",
    "x = 2\\pi & x =5\\pi/2\\\\\n",
    "\\hline\n",
    "\\hline \\\n",
    "x = 3\\pi & \\\\\n",
    "\\hline\n",
    "\\end{array}$$"
   ]
  },
  {
   "cell_type": "markdown",
   "metadata": {},
   "source": [
    "## derivada da serie:\n",
    "\\begin{equation*}\n",
    "\\frac{d}{dx}(\\sum_{n=0}^\\infty (-1)^n \\frac{x^{2n}}{(2n+1)!}) = \\sum_{n=0}^\\infty \\frac{(-1)^n 2n}{(2n+1)!}.x^{2n-1}\n",
    "\\end{equation*}"
   ]
  },
  {
   "cell_type": "code",
   "execution_count": 68,
   "metadata": {},
   "outputs": [],
   "source": [
    "def fatorial(x):\n",
    "  if x == 0:\n",
    "    return 1\n",
    "  return x * fatorial(x-1)\n",
    "\n",
    "def verifica_derivada():\n",
    "    tabela = tt.Texttable()\n",
    "    tabela.header(['x', 'valor'])\n",
    "    valores = ['0','pi/2','pi','3pi/2','2pi','5pi/2','3pi']\n",
    "    pontos = [0.0, (np.pi/2), (np.pi), (3*np.pi)/2, (2*np.pi), (5*np.pi)/2, (3*np.pi)]\n",
    "    resultado = 0.0\n",
    "    i = 0\n",
    "    for x in pontos:\n",
    "        v = valores[i] #variavel criada para deixar ajudar a preencher a tabela\n",
    "        resultado = 0.0\n",
    "        for n in range(1,20): # somatoria de n = 1 até 20\n",
    "            fat = fatorial(((2*n)+1))\n",
    "            resultado = resultado + ((((-1) ** n) * (2*n))/fat)*((x) ** ((2*n)-1)) \n",
    "        tabela.add_row([v,resultado]) #salvando os dados na tabela abaixo\n",
    "        i+=1\n",
    "    print(tabela.draw()) #exibindo resultados"
   ]
  },
  {
   "cell_type": "code",
   "execution_count": 69,
   "metadata": {},
   "outputs": [
    {
     "name": "stdout",
     "output_type": "stream",
     "text": [
      "+-------+--------+\n",
      "|   x   | valor  |\n",
      "+=======+========+\n",
      "| 0     | 0      |\n",
      "+-------+--------+\n",
      "| pi/2  | -0.405 |\n",
      "+-------+--------+\n",
      "| pi    | -0.318 |\n",
      "+-------+--------+\n",
      "| 3pi/2 | 0.045  |\n",
      "+-------+--------+\n",
      "| 2pi   | 0.159  |\n",
      "+-------+--------+\n",
      "| 5pi/2 | -0.016 |\n",
      "+-------+--------+\n",
      "| 3pi   | -0.106 |\n",
      "+-------+--------+\n"
     ]
    }
   ],
   "source": [
    "verifica_derivada()"
   ]
  },
  {
   "cell_type": "markdown",
   "metadata": {},
   "source": [
    "# Referências"
   ]
  },
  {
   "cell_type": "markdown",
   "metadata": {},
   "source": [
    "- <https://pt.sharelatex.com/learn/Integrals,_sums_and_limits#Integrals>\n",
    "- <https://github.com/adam-p/markdown-here/wiki/Markdown-Cheatsheet#links>\n",
    "- <https://www.symbolab.com/>\n",
    "- <http://www.wolframalpha.com/>\n",
    "- <http://jupyter-notebook.readthedocs.io/en/stable/examples/Notebook/Typesetting%20Equations.html>\n"
   ]
  },
  {
   "cell_type": "code",
   "execution_count": null,
   "metadata": {},
   "outputs": [],
   "source": []
  }
 ],
 "metadata": {
  "kernelspec": {
   "display_name": "Python 3",
   "language": "python",
   "name": "python3"
  },
  "language_info": {
   "codemirror_mode": {
    "name": "ipython",
    "version": 3
   },
   "file_extension": ".py",
   "mimetype": "text/x-python",
   "name": "python",
   "nbconvert_exporter": "python",
   "pygments_lexer": "ipython3",
   "version": "3.6.3"
  }
 },
 "nbformat": 4,
 "nbformat_minor": 2
}
